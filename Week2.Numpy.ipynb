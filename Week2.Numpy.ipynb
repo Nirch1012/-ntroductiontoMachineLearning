{
 "cells": [
  {
   "cell_type": "code",
   "execution_count": 1,
   "id": "79096a10-aaad-4f15-aa74-44e27b95e733",
   "metadata": {},
   "outputs": [
    {
     "name": "stdout",
     "output_type": "stream",
     "text": [
      "Requirement already satisfied: numpy in c:\\users\\metehan\\anaconda3\\lib\\site-packages (1.26.4)\n"
     ]
    }
   ],
   "source": [
    "!pip install numpy"
   ]
  },
  {
   "cell_type": "code",
   "execution_count": 2,
   "id": "1eaad56b-473d-4200-bb88-1ff796ca7450",
   "metadata": {},
   "outputs": [],
   "source": [
    "import numpy as np "
   ]
  },
  {
   "cell_type": "code",
   "execution_count": 3,
   "id": "526f0a69-984c-46b2-9282-3a9242f7b67c",
   "metadata": {},
   "outputs": [
    {
     "name": "stdout",
     "output_type": "stream",
     "text": [
      "[2 8 9]\n"
     ]
    }
   ],
   "source": [
    "Array1 = np.array([2,8,9]) \n",
    "\n",
    "print(Array1)"
   ]
  },
  {
   "cell_type": "code",
   "execution_count": 4,
   "id": "3e9bca50-f16d-432d-a311-188ba7fe5caf",
   "metadata": {},
   "outputs": [
    {
     "name": "stdout",
     "output_type": "stream",
     "text": [
      "(8,)\n"
     ]
    }
   ],
   "source": [
    "Array2= np.array([1,2,3,4,5,6,7,8])\n",
    "\n",
    "print(Array2.shape) "
   ]
  },
  {
   "cell_type": "code",
   "execution_count": 5,
   "id": "b18447c6-bcba-4316-9295-113e07e209a1",
   "metadata": {},
   "outputs": [
    {
     "name": "stdout",
     "output_type": "stream",
     "text": [
      "[[1 2 3 4]\n",
      " [5 6 7 8]]\n"
     ]
    }
   ],
   "source": [
    "Matris = Array2.reshape(2,4) \n",
    "print(Matris)"
   ]
  },
  {
   "cell_type": "code",
   "execution_count": 6,
   "id": "6cd9224c-d1a5-4fe8-a455-4f8971c505a6",
   "metadata": {},
   "outputs": [
    {
     "name": "stdout",
     "output_type": "stream",
     "text": [
      "shape:  (2, 4)\n",
      "dimension:  2\n",
      "data type:  int32\n",
      "size:  8\n",
      "type <class 'numpy.ndarray'>\n"
     ]
    }
   ],
   "source": [
    "print(\"shape: \",Matris.shape)\n",
    "\n",
    "print(\"dimension: \",Matris.ndim) \n",
    "\n",
    "print(\"data type: \",Matris.dtype.name) \n",
    "\n",
    "print(\"size: \",Matris.size) \n",
    "                       \n",
    "print(\"type\",type(Matris)) "
   ]
  },
  {
   "cell_type": "code",
   "execution_count": 7,
   "id": "47506364-b80a-4188-b25c-a87b8e69a6b8",
   "metadata": {},
   "outputs": [
    {
     "name": "stdout",
     "output_type": "stream",
     "text": [
      "[[ 2  4  6  8]\n",
      " [ 1  3  5  7]\n",
      " [ 9 10 11 12]]\n"
     ]
    }
   ],
   "source": [
    "ArrayThree= np.array([[2,4,6,8],[1,3,5,7],[9,10,11,12]])\n",
    "print(ArrayThree)"
   ]
  },
  {
   "cell_type": "code",
   "execution_count": 8,
   "id": "41c8759a-3cb9-49d3-bb31-927429b07e20",
   "metadata": {},
   "outputs": [
    {
     "name": "stdout",
     "output_type": "stream",
     "text": [
      "(3, 4)\n"
     ]
    }
   ],
   "source": [
    "print(ArrayThree.shape) "
   ]
  },
  {
   "cell_type": "code",
   "execution_count": 9,
   "id": "64405956-04a2-4e9a-b63d-46c1c0f9142c",
   "metadata": {},
   "outputs": [
    {
     "name": "stdout",
     "output_type": "stream",
     "text": [
      "[[5. 0. 0. 0.]\n",
      " [0. 0. 0. 0.]\n",
      " [0. 0. 0. 0.]]\n"
     ]
    }
   ],
   "source": [
    "zeros= np.zeros((3,4))  \n",
    "zeros[0,0]=5\n",
    "print(zeros)"
   ]
  },
  {
   "cell_type": "code",
   "execution_count": 10,
   "id": "44d0c58c-2b66-4e10-9e4e-ebab316a196c",
   "metadata": {},
   "outputs": [
    {
     "data": {
      "text/plain": [
       "array([[1., 1., 1., 1.],\n",
       "       [1., 1., 1., 1.],\n",
       "       [1., 1., 1., 1.]])"
      ]
     },
     "execution_count": 10,
     "metadata": {},
     "output_type": "execute_result"
    }
   ],
   "source": [
    "np.ones((3,4))"
   ]
  },
  {
   "cell_type": "code",
   "execution_count": 11,
   "id": "1491ba07-dddc-4b3a-9b26-bb6565b9d745",
   "metadata": {},
   "outputs": [
    {
     "data": {
      "text/plain": [
       "array([[6.23042070e-307, 4.67296746e-307, 1.69121096e-306,\n",
       "        1.78019625e-306, 1.33511018e-306],\n",
       "       [7.56599807e-307, 8.90104239e-307, 3.11525958e-307,\n",
       "        1.69118108e-306, 8.06632139e-308],\n",
       "       [1.20160711e-306, 1.69119330e-306, 1.29062229e-306,\n",
       "        1.42417222e-306, 1.33512648e-306],\n",
       "       [7.56596412e-307, 1.37962185e-306, 1.78021798e-306,\n",
       "        8.34451504e-308, 1.37954579e-306]])"
      ]
     },
     "execution_count": 11,
     "metadata": {},
     "output_type": "execute_result"
    }
   ],
   "source": [
    "np.empty((4,5))"
   ]
  },
  {
   "cell_type": "code",
   "execution_count": 12,
   "id": "5fd43e1b-888b-4dbf-8896-7fab1c52363c",
   "metadata": {},
   "outputs": [
    {
     "data": {
      "text/plain": [
       "array([10, 15, 20, 25, 30, 35, 40, 45])"
      ]
     },
     "execution_count": 12,
     "metadata": {},
     "output_type": "execute_result"
    }
   ],
   "source": [
    "np.arange(10,50,5)"
   ]
  },
  {
   "cell_type": "code",
   "execution_count": 13,
   "id": "4845f000-1292-4834-8772-aa32075c4d63",
   "metadata": {},
   "outputs": [
    {
     "name": "stdout",
     "output_type": "stream",
     "text": [
      "[ 0.          0.52631579  1.05263158  1.57894737  2.10526316  2.63157895\n",
      "  3.15789474  3.68421053  4.21052632  4.73684211  5.26315789  5.78947368\n",
      "  6.31578947  6.84210526  7.36842105  7.89473684  8.42105263  8.94736842\n",
      "  9.47368421 10.        ]\n"
     ]
    }
   ],
   "source": [
    "Array3= np.linspace(0,10,20)\n",
    "print(Array3)"
   ]
  },
  {
   "cell_type": "code",
   "execution_count": 14,
   "id": "2fcb1091-1033-44ab-bc93-5f9e518a5de4",
   "metadata": {},
   "outputs": [
    {
     "name": "stdout",
     "output_type": "stream",
     "text": [
      "[ 3  7 11]\n",
      "[1 1 1]\n",
      "[ 1  9 25]\n"
     ]
    }
   ],
   "source": [
    "X= np.array([2,4,6])\n",
    "Y= np.array([1,3,5]) \n",
    "print(X+Y) \n",
    "print(X-Y)\n",
    "print(Y**2)"
   ]
  },
  {
   "cell_type": "code",
   "execution_count": 15,
   "id": "fe9fa79e-180e-456c-b8a3-76889f4cda31",
   "metadata": {},
   "outputs": [
    {
     "name": "stdout",
     "output_type": "stream",
     "text": [
      "[1 2 3 4 5 6 7]\n"
     ]
    }
   ],
   "source": [
    "M= np.array([1,2,3,4,5,6,7])\n",
    "print(M)"
   ]
  },
  {
   "cell_type": "code",
   "execution_count": 16,
   "id": "0c7c85e9-287c-4bec-aa84-3c9e8cfce64e",
   "metadata": {},
   "outputs": [
    {
     "name": "stdout",
     "output_type": "stream",
     "text": [
      "[5 6 7 8]\n",
      "[1, 2, 3, 4]\n"
     ]
    }
   ],
   "source": [
    "Liste = [1,2,3,4]\n",
    "\n",
    "Liste_Array = np.array([5,6,7,8]) \n",
    "print(Liste_Array)\n",
    "print(Liste)"
   ]
  },
  {
   "cell_type": "code",
   "execution_count": 17,
   "id": "1b4a826b-d79f-41e4-82b5-d8ba1e4908cd",
   "metadata": {},
   "outputs": [
    {
     "name": "stdout",
     "output_type": "stream",
     "text": [
      "[1 2 3 4]\n"
     ]
    }
   ],
   "source": [
    "Array = np.array(Liste)\n",
    "print(Array)"
   ]
  },
  {
   "cell_type": "code",
   "execution_count": 18,
   "id": "5ab7f6c5-6bc7-4694-888c-e00ad5a62b75",
   "metadata": {},
   "outputs": [
    {
     "name": "stdout",
     "output_type": "stream",
     "text": [
      "[1 2 3]\n"
     ]
    }
   ],
   "source": [
    "a = np.array([1,2,3])\n",
    "print(a)"
   ]
  },
  {
   "cell_type": "code",
   "execution_count": 19,
   "id": "9dd01457-30f9-47a5-9026-df31d9aff528",
   "metadata": {},
   "outputs": [
    {
     "name": "stdout",
     "output_type": "stream",
     "text": [
      "[5 2 3] [5 2 3] [5 2 3]\n"
     ]
    }
   ],
   "source": [
    "b=a\n",
    "\n",
    "c=a\n",
    "\n",
    "b[0]=5\n",
    "print(a,b,c)"
   ]
  },
  {
   "cell_type": "code",
   "execution_count": 20,
   "id": "f46a960e-1f76-4e87-81ba-3ca8d8058cc0",
   "metadata": {},
   "outputs": [
    {
     "name": "stdout",
     "output_type": "stream",
     "text": [
      "[5 2 3]\n"
     ]
    }
   ],
   "source": [
    "d = a.copy()\n",
    "print(d)"
   ]
  },
  {
   "cell_type": "code",
   "execution_count": 21,
   "id": "811ddafa-3e0c-463c-a654-9537ae74052c",
   "metadata": {},
   "outputs": [
    {
     "name": "stdout",
     "output_type": "stream",
     "text": [
      "1\n",
      "[1 2 3 4]\n"
     ]
    }
   ],
   "source": [
    "a= np.array([1,2,3,4,5,6,7]) \n",
    "print(a[0])\n",
    "print(a[0:4])"
   ]
  },
  {
   "cell_type": "code",
   "execution_count": 22,
   "id": "633de235-55a1-44a6-a3ac-0eec73e8a2a8",
   "metadata": {},
   "outputs": [
    {
     "name": "stdout",
     "output_type": "stream",
     "text": [
      "[7 6 5 4 3 2 1]\n"
     ]
    }
   ],
   "source": [
    "reverse_array = a[::-1] \n",
    "print(reverse_array)"
   ]
  },
  {
   "cell_type": "code",
   "execution_count": 24,
   "id": "1fcba9ab-f056-4f8e-87c9-e79618bc1328",
   "metadata": {},
   "outputs": [
    {
     "name": "stdout",
     "output_type": "stream",
     "text": [
      "[[2 4 6]\n",
      " [1 3 5]\n",
      " [7 8 9]]\n"
     ]
    }
   ],
   "source": [
    "Arrayw = np.array([[2,4,6],[1,3,5],[7,8,9]])\n",
    "print(Arrayw)"
   ]
  },
  {
   "cell_type": "code",
   "execution_count": 25,
   "id": "ff9cee70-d488-4c3c-857e-227399c4f7fd",
   "metadata": {},
   "outputs": [
    {
     "name": "stdout",
     "output_type": "stream",
     "text": [
      "[[2 4]\n",
      " [1 3]\n",
      " [5 6]]\n"
     ]
    }
   ],
   "source": [
    "array32 = np.array([[2,4],[1,3],[5,6]])\n",
    "print(array32)"
   ]
  },
  {
   "cell_type": "code",
   "execution_count": 26,
   "id": "1130a924-3805-4cef-a1fa-c532602dc4a7",
   "metadata": {},
   "outputs": [
    {
     "name": "stdout",
     "output_type": "stream",
     "text": [
      "[[2 4 1]\n",
      " [3 5 6]]\n"
     ]
    }
   ],
   "source": [
    "array32.resize((2,3)) \n",
    "print(array32)"
   ]
  },
  {
   "cell_type": "code",
   "execution_count": null,
   "id": "58134f45-e636-41eb-bdce-29c6a6a8fc51",
   "metadata": {},
   "outputs": [],
   "source": []
  }
 ],
 "metadata": {
  "kernelspec": {
   "display_name": "Python 3 (ipykernel)",
   "language": "python",
   "name": "python3"
  },
  "language_info": {
   "codemirror_mode": {
    "name": "ipython",
    "version": 3
   },
   "file_extension": ".py",
   "mimetype": "text/x-python",
   "name": "python",
   "nbconvert_exporter": "python",
   "pygments_lexer": "ipython3",
   "version": "3.11.7"
  }
 },
 "nbformat": 4,
 "nbformat_minor": 5
}
