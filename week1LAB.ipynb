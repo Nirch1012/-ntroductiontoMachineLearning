{
 "cells": [
  {
   "cell_type": "code",
   "execution_count": 1,
   "id": "71008dc0-5385-491f-9c72-3205620596dc",
   "metadata": {},
   "outputs": [
    {
     "name": "stdout",
     "output_type": "stream",
     "text": [
      "21.5\n",
      "October\n"
     ]
    }
   ],
   "source": [
    "a=3\n",
    "b=8\n",
    "c=10.5\n",
    "week=\"October\"\n",
    "print(a+b+c)\n",
    "print(week)"
   ]
  },
  {
   "cell_type": "code",
   "execution_count": 2,
   "id": "607d305c-d85a-481b-bd5d-eae480dae446",
   "metadata": {},
   "outputs": [
    {
     "name": "stdout",
     "output_type": "stream",
     "text": [
      "[12, 24, 48]\n"
     ]
    },
    {
     "data": {
      "text/plain": [
       "list"
      ]
     },
     "execution_count": 2,
     "metadata": {},
     "output_type": "execute_result"
    }
   ],
   "source": [
    "first=12\n",
    "second=24\n",
    "third=48\n",
    "\n",
    "my_list=[first,second,third]\n",
    "print(my_list)\n",
    "type(my_list)\n"
   ]
  },
  {
   "cell_type": "code",
   "execution_count": 4,
   "id": "a5297255-ceca-4931-97a0-437f1bdc88ac",
   "metadata": {},
   "outputs": [
    {
     "name": "stdout",
     "output_type": "stream",
     "text": [
      "['batuhan', 12, 24, 48]\n"
     ]
    },
    {
     "data": {
      "text/plain": [
       "str"
      ]
     },
     "execution_count": 4,
     "metadata": {},
     "output_type": "execute_result"
    }
   ],
   "source": [
    "my_list_str=[\"batuhan\",first,second,third]\n",
    "print(my_list_str)\n",
    "\n",
    "type(my_list_str[0])"
   ]
  },
  {
   "cell_type": "code",
   "execution_count": 5,
   "id": "5735d335-69aa-41a7-ab14-0be6b210568d",
   "metadata": {},
   "outputs": [
    {
     "name": "stdout",
     "output_type": "stream",
     "text": [
      "batuhan\n"
     ]
    }
   ],
   "source": [
    "value=my_list_and_str[0]\n",
    "print(value)"
   ]
  },
  {
   "cell_type": "code",
   "execution_count": 6,
   "id": "d497a9b4-5e72-4d04-a98d-66d5520e0783",
   "metadata": {},
   "outputs": [
    {
     "name": "stdout",
     "output_type": "stream",
     "text": [
      "['batuhan', 12, 24, 48]\n"
     ]
    }
   ],
   "source": [
    "list_divide= my_list_and_str[0:4]\n",
    "print(list_divide)"
   ]
  },
  {
   "cell_type": "code",
   "execution_count": 7,
   "id": "6c50eef9-d1d3-40cf-9b50-fb9c32a5d5df",
   "metadata": {},
   "outputs": [
    {
     "data": {
      "text/plain": [
       "['__add__',\n",
       " '__class__',\n",
       " '__class_getitem__',\n",
       " '__contains__',\n",
       " '__delattr__',\n",
       " '__delitem__',\n",
       " '__dir__',\n",
       " '__doc__',\n",
       " '__eq__',\n",
       " '__format__',\n",
       " '__ge__',\n",
       " '__getattribute__',\n",
       " '__getitem__',\n",
       " '__getstate__',\n",
       " '__gt__',\n",
       " '__hash__',\n",
       " '__iadd__',\n",
       " '__imul__',\n",
       " '__init__',\n",
       " '__init_subclass__',\n",
       " '__iter__',\n",
       " '__le__',\n",
       " '__len__',\n",
       " '__lt__',\n",
       " '__mul__',\n",
       " '__ne__',\n",
       " '__new__',\n",
       " '__reduce__',\n",
       " '__reduce_ex__',\n",
       " '__repr__',\n",
       " '__reversed__',\n",
       " '__rmul__',\n",
       " '__setattr__',\n",
       " '__setitem__',\n",
       " '__sizeof__',\n",
       " '__str__',\n",
       " '__subclasshook__',\n",
       " 'append',\n",
       " 'clear',\n",
       " 'copy',\n",
       " 'count',\n",
       " 'extend',\n",
       " 'index',\n",
       " 'insert',\n",
       " 'pop',\n",
       " 'remove',\n",
       " 'reverse',\n",
       " 'sort']"
      ]
     },
     "execution_count": 7,
     "metadata": {},
     "output_type": "execute_result"
    }
   ],
   "source": [
    "dir(my_list)\n"
   ]
  },
  {
   "cell_type": "code",
   "execution_count": 8,
   "id": "cee25b0b-14bb-4190-a543-ad544aae110b",
   "metadata": {},
   "outputs": [
    {
     "name": "stdout",
     "output_type": "stream",
     "text": [
      "Help on method_descriptor:\n",
      "\n",
      "append(self, object, /)\n",
      "    Append object to the end of the list.\n",
      "\n"
     ]
    }
   ],
   "source": [
    "help(list.append)"
   ]
  },
  {
   "cell_type": "code",
   "execution_count": 9,
   "id": "e5558bcf-376a-41e1-99ec-59b9af075c73",
   "metadata": {},
   "outputs": [
    {
     "name": "stdout",
     "output_type": "stream",
     "text": [
      "Help on method_descriptor:\n",
      "\n",
      "remove(self, value, /)\n",
      "    Remove first occurrence of value.\n",
      "    \n",
      "    Raises ValueError if the value is not present.\n",
      "\n"
     ]
    }
   ],
   "source": [
    "help(list.remove)"
   ]
  },
  {
   "cell_type": "code",
   "execution_count": 10,
   "id": "03697bd4-4a86-4f99-85e3-9408fcc8d12a",
   "metadata": {},
   "outputs": [
    {
     "name": "stdout",
     "output_type": "stream",
     "text": [
      "[1, 3, 6, 8, 4]\n"
     ]
    }
   ],
   "source": [
    "my_list_int=[1,3,6,8]\n",
    "my_list_int.append(4)\n",
    "print(my_list_int)"
   ]
  },
  {
   "cell_type": "code",
   "execution_count": 12,
   "id": "fc5a8759-5567-4343-a7dc-1a5a831fe323",
   "metadata": {},
   "outputs": [
    {
     "name": "stdout",
     "output_type": "stream",
     "text": [
      "[1, 6, 8, 4]\n"
     ]
    }
   ],
   "source": [
    "my_list_int.remove(3)\n",
    "print(my_list_int)"
   ]
  },
  {
   "cell_type": "code",
   "execution_count": 13,
   "id": "776eed74-1f46-4a18-9ebb-30e6f1f5c490",
   "metadata": {},
   "outputs": [
    {
     "name": "stdout",
     "output_type": "stream",
     "text": [
      "[4, 8, 6, 1]\n"
     ]
    }
   ],
   "source": [
    "my_list_int.reverse()\n",
    "print(my_list_int)\n"
   ]
  },
  {
   "cell_type": "code",
   "execution_count": 14,
   "id": "df71ad54-531e-41fc-a9a4-7398f28fecae",
   "metadata": {},
   "outputs": [
    {
     "name": "stdout",
     "output_type": "stream",
     "text": [
      "2\n",
      "3\n",
      "4\n",
      "5\n",
      "6\n",
      "7\n",
      "8\n"
     ]
    }
   ],
   "source": [
    "for each in range (2,9):\n",
    "  print(each)"
   ]
  },
  {
   "cell_type": "code",
   "execution_count": 15,
   "id": "511bedc5-8a74-4e50-ae16-b668fba740c1",
   "metadata": {},
   "outputs": [
    {
     "name": "stdout",
     "output_type": "stream",
     "text": [
      "a\n",
      "n\n",
      "k\n",
      "a\n",
      "r\n",
      "a\n"
     ]
    }
   ],
   "source": [
    "for each in \"ankara\":\n",
    "    \n",
    "    print(each)"
   ]
  },
  {
   "cell_type": "code",
   "execution_count": 16,
   "id": "8aeab97f-238f-4ffb-b8cd-e92ccc7539e6",
   "metadata": {},
   "outputs": [
    {
     "data": {
      "text/plain": [
       "137"
      ]
     },
     "execution_count": 16,
     "metadata": {},
     "output_type": "execute_result"
    }
   ],
   "source": [
    "list1=[12,23,38,9,0]\n",
    "list2=[8,24,11,5,7] \n",
    "sum(list1+list2)"
   ]
  },
  {
   "cell_type": "code",
   "execution_count": 17,
   "id": "8d133716-8da5-46a3-96e3-cbf98c732225",
   "metadata": {},
   "outputs": [
    {
     "data": {
      "text/plain": [
       "5"
      ]
     },
     "execution_count": 17,
     "metadata": {},
     "output_type": "execute_result"
    }
   ],
   "source": [
    "min(list1)+min(list2)"
   ]
  },
  {
   "cell_type": "code",
   "execution_count": 18,
   "id": "cd59637d-c0a8-42e5-84e2-fca11e552cc7",
   "metadata": {},
   "outputs": [
    {
     "name": "stdout",
     "output_type": "stream",
     "text": [
      "3\n",
      "5\n",
      "6\n",
      "9\n",
      "10\n",
      "12\n",
      "15\n",
      "18\n",
      "20\n",
      "21\n",
      "24\n",
      "25\n",
      "27\n",
      "30\n",
      "33\n",
      "35\n",
      "36\n",
      "39\n",
      "40\n",
      "42\n",
      "45\n",
      "48\n",
      "50\n",
      "51\n",
      "54\n",
      "55\n",
      "57\n",
      "60\n",
      "63\n",
      "65\n",
      "66\n",
      "69\n",
      "70\n",
      "72\n",
      "75\n",
      "78\n",
      "80\n",
      "81\n",
      "84\n",
      "85\n",
      "87\n",
      "90\n",
      "93\n",
      "95\n",
      "96\n",
      "99\n",
      "100\n"
     ]
    }
   ],
   "source": [
    "for i in range(1,101):\n",
    "    if i%3==0 or i%5==0:\n",
    "        print(i)\n"
   ]
  },
  {
   "cell_type": "code",
   "execution_count": 24,
   "id": "f1a8804c-4ebf-4c99-9d97-cd5522bb612f",
   "metadata": {},
   "outputs": [
    {
     "name": "stdout",
     "output_type": "stream",
     "text": [
      "Largest value in the list is 38 \n",
      "Smallest value in the list is 9 \n"
     ]
    }
   ],
   "source": [
    "minNumber = list1[0]\n",
    "maxNumber = list1[0]\n",
    " \n",
    "for i in range(0,4):\n",
    "    if minNumber > list1[i]:\n",
    "        minNumber = list1[i]\n",
    "    if maxNumber < list1[i]:\n",
    "        maxNumber = list1[i]\n",
    "        \n",
    "print(\"Largest value in the list is {0} \".format(maxNumber))\n",
    "print(\"Smallest value in the list is {0} \".format(minNumber))"
   ]
  },
  {
   "cell_type": "code",
   "execution_count": 20,
   "id": "c0247b94-96ff-4aee-a2fc-5a95e513375c",
   "metadata": {},
   "outputs": [
    {
     "data": {
      "text/plain": [
       "True"
      ]
     },
     "execution_count": 20,
     "metadata": {},
     "output_type": "execute_result"
    }
   ],
   "source": [
    "1 == False #False\n",
    "1 == True #True\n"
   ]
  },
  {
   "cell_type": "code",
   "execution_count": 23,
   "id": "b4e4559e-61ce-4e94-abfd-5adde7acbf3d",
   "metadata": {},
   "outputs": [
    {
     "name": "stdout",
     "output_type": "stream",
     "text": [
      "number1 is greater than number2\n"
     ]
    }
   ],
   "source": [
    "number1=99\n",
    "number2=49\n",
    "\n",
    "if (number1 < number2):\n",
    "    \n",
    "    print(\"number1 is smaller than number2\")\n",
    "    \n",
    "elif (number1 == number2):\n",
    "    print(\"number1 is equal to number2\")\n",
    "    \n",
    "else :\n",
    "    \n",
    "    print(\"number1 is greater than number2\")\n",
    "    "
   ]
  },
  {
   "cell_type": "code",
   "execution_count": 22,
   "id": "9827530b-eaa5-4615-b3db-922081f803b2",
   "metadata": {},
   "outputs": [
    {
     "name": "stdout",
     "output_type": "stream",
     "text": [
      "10\n",
      "9\n",
      "8\n",
      "7\n",
      "6\n",
      "5\n",
      "4\n",
      "3\n",
      "2\n",
      "1\n"
     ]
    }
   ],
   "source": [
    "i=10\n",
    "while (i>0):\n",
    "    \n",
    "    print(i)\n",
    "    \n",
    "    i = i-1"
   ]
  },
  {
   "cell_type": "code",
   "execution_count": 25,
   "id": "48b33c92-2d52-4cc5-adb5-1c2fa3eddbe0",
   "metadata": {},
   "outputs": [
    {
     "data": {
      "text/plain": [
       "12.56"
      ]
     },
     "execution_count": 25,
     "metadata": {},
     "output_type": "execute_result"
    }
   ],
   "source": [
    "def cember_alan(r,pi=3.14):    \n",
    " \n",
    "    output = pi*r*r\n",
    "    \n",
    "    return output\n",
    "\n",
    "cember_alan(2) "
   ]
  },
  {
   "cell_type": "code",
   "execution_count": 26,
   "id": "bcb5ff67-bfa9-45e8-8e92-5a400fa7343a",
   "metadata": {},
   "outputs": [
    {
     "data": {
      "text/plain": [
       "6.0"
      ]
     },
     "execution_count": 26,
     "metadata": {},
     "output_type": "execute_result"
    }
   ],
   "source": [
    "def dikdortgen_alani(x,y):\n",
    "    \n",
    "    output= x*y/2\n",
    "    \n",
    "    return output\n",
    "\n",
    "sonuc = dikdortgen_alani(3,4)\n",
    "sonuc"
   ]
  },
  {
   "cell_type": "code",
   "execution_count": 27,
   "id": "eeab34b4-7d65-45c7-b122-f225fb32aad6",
   "metadata": {},
   "outputs": [
    {
     "name": "stdout",
     "output_type": "stream",
     "text": [
      "6.0\n"
     ]
    }
   ],
   "source": [
    "output2 = lambda x,y: x*y/2 \n",
    "\n",
    "print(output2(3,4)) "
   ]
  },
  {
   "cell_type": "code",
   "execution_count": 28,
   "id": "eb613f72-4bfd-4401-85a4-6995d8b4354f",
   "metadata": {},
   "outputs": [
    {
     "data": {
      "text/plain": [
       "24"
      ]
     },
     "execution_count": 28,
     "metadata": {},
     "output_type": "execute_result"
    }
   ],
   "source": [
    "yaslar = {\"batuhan\":24, \"metehan\":29, \"emre\":33}\n",
    "\n",
    "type(yaslar) \n",
    "\n",
    "yaslar[\"batuhan\"] "
   ]
  },
  {
   "cell_type": "code",
   "execution_count": 29,
   "id": "50a31abd-2339-4cbc-a266-85c9dbb6d46b",
   "metadata": {},
   "outputs": [
    {
     "data": {
      "text/plain": [
       "34"
      ]
     },
     "execution_count": 29,
     "metadata": {},
     "output_type": "execute_result"
    }
   ],
   "source": [
    "type(yaslar[\"batuhan\"]) \n",
    "yaslar.keys() \n",
    "yaslar.values()\n",
    "\n",
    "def function():\n",
    "    \n",
    "    dictionary = {\"batuhan\":34, \"metehan\":34, \"emre\":33}\n",
    "    \n",
    "    return dictionary\n",
    "\n",
    "dic = function()\n",
    "\n",
    "dic[\"batuhan\"] "
   ]
  },
  {
   "cell_type": "code",
   "execution_count": 30,
   "id": "f798b61c-5192-4cc5-bbbd-1adefa1bcada",
   "metadata": {},
   "outputs": [
    {
     "data": {
      "text/plain": [
       "53"
      ]
     },
     "execution_count": 30,
     "metadata": {},
     "output_type": "execute_result"
    }
   ],
   "source": [
    "def yassum():\n",
    "\n",
    "    return yaslar[\"batuhan\"]+yaslar[\"metehan\"]\n",
    "\n",
    "yassum()"
   ]
  },
  {
   "cell_type": "code",
   "execution_count": 31,
   "id": "514bd5ab-4f88-4300-947f-28df42a0c02c",
   "metadata": {},
   "outputs": [
    {
     "name": "stdout",
     "output_type": "stream",
     "text": [
      "no\n"
     ]
    }
   ],
   "source": [
    "keys = yaslar.keys() \n",
    "\n",
    "if \"ali\" in keys: \n",
    "    \n",
    "    print(\"yes\")\n",
    "\n",
    "else:\n",
    "    print(\"no\")"
   ]
  },
  {
   "cell_type": "code",
   "execution_count": null,
   "id": "fe8fdba6-6ce0-4af6-8af3-19b86b02648f",
   "metadata": {},
   "outputs": [],
   "source": []
  }
 ],
 "metadata": {
  "kernelspec": {
   "display_name": "Python 3 (ipykernel)",
   "language": "python",
   "name": "python3"
  },
  "language_info": {
   "codemirror_mode": {
    "name": "ipython",
    "version": 3
   },
   "file_extension": ".py",
   "mimetype": "text/x-python",
   "name": "python",
   "nbconvert_exporter": "python",
   "pygments_lexer": "ipython3",
   "version": "3.11.7"
  }
 },
 "nbformat": 4,
 "nbformat_minor": 5
}
